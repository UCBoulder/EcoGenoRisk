{
 "cells": [
  {
   "cell_type": "code",
   "execution_count": 1,
   "metadata": {},
   "outputs": [],
   "source": [
    "import numpy as np\n",
    "import json\n",
    "import pandas as pd\n"
   ]
  },
  {
   "cell_type": "markdown",
   "metadata": {},
   "source": []
  },
  {
   "cell_type": "code",
   "execution_count": 2,
   "metadata": {},
   "outputs": [],
   "source": [
    "with open('/home/anna/Downloads/brenda_2023_1.json', 'r') as file:\n",
    "        data1 = json.load(file)"
   ]
  },
  {
   "cell_type": "code",
   "execution_count": 3,
   "metadata": {},
   "outputs": [],
   "source": [
    "##THIS IS JUST TO DISPLAY\n",
    "# frump = json.dumps(data1, sort_keys=True, indent=6)\n",
    "   \n",
    "# print(frump[:100000])\n",
    "    # print(splenda.info())\n",
    "\n",
    "##Attempt 1__________________________________________________________________________________________________________________________________________________________________________\n",
    "def SPLENDA(): \n",
    "    with open('BRENDA_Inhibitor_list.csv', 'w') as f:\n",
    "        for key, value in data1[\"data\"].items():\n",
    "        # Access the \"cofactor\" for each key\n",
    "            print(key, file = f)\n",
    "            # inhibitor_list.append(inhibitor)\n",
    "            inhibitor = value.get(\"inhibitor\")\n",
    "            if inhibitor:\n",
    "                for compound in inhibitor:\n",
    "                    # print(\"Inhibitor:\", compound)\n",
    "                    value = compound.get(\"value\")\n",
    "                    if value:\n",
    "                        print(\"Value:\", value, file =f)\n",
    "                    else:\n",
    "                        print(\"No inhibitor value found\")\n",
    "    \n",
    "    BRENDA1 = pd.read_csv('BRENDA_Inhibitor_list.csv', sep = '\\t', header=None)\n",
    "    # print(BRENDA1)\n",
    "    BRENDA1.columns = ['EC']\n",
    "    BRENDA1['Inhibitor'] = ''\n",
    "    mask = BRENDA1['EC'].str.contains('Value')\n",
    "    # print(mask)\n",
    "    # shifted = BRENDA1['EC'].shift(1)\n",
    "\n",
    "    BRENDA1.loc[mask, 'Inhibitor'] = BRENDA1['EC'].shift(0)\n",
    "    BRENDA1.loc[mask, 'EC'] = None\n",
    "    BRENDA1['EC'] = BRENDA1['EC'].str.replace('spontaneous', '')\n",
    "    BRENDA1.drop(0, inplace=True)\n",
    "    BRENDA1['Inhibitor'] = BRENDA1['Inhibitor'].shift(-1)\n",
    "    BRENDA1['EC'].fillna(method='ffill', inplace=True)\n",
    "    BRENDA1.replace(r'^\\s*$', pd.NA, regex=True, inplace=True)\n",
    "    BRENDA1.dropna(subset = ['Inhibitor'], inplace=True)\n",
    "    BRENDA1['Inhibitor'] = BRENDA1['Inhibitor'].str.replace('Value: ','')\n",
    "    BRENDA1.to_csv('BRENDA_Inhibitor_list.csv', sep='\\t')\n",
    "    print(BRENDA1)\n",
    "\n",
    "\n",
    "\n"
   ]
  },
  {
   "cell_type": "code",
   "execution_count": 4,
   "metadata": {},
   "outputs": [
    {
     "name": "stdout",
     "output_type": "stream",
     "text": [
      "             EC         Inhibitor\n",
      "1       1.1.1.1          pefabloc\n",
      "2       1.1.1.1               Na+\n",
      "3       1.1.1.1             CHAPS\n",
      "4       1.1.1.1      Triton X-100\n",
      "5       1.1.1.1          Tween 20\n",
      "...         ...               ...\n",
      "186281  7.6.2.9             K3PO4\n",
      "186282  7.6.2.9              BusR\n",
      "186283  7.6.2.9        Tetracaine\n",
      "186284  7.6.2.9           choline\n",
      "186285  7.6.2.9  Betaine aldehyde\n",
      "\n",
      "[178455 rows x 2 columns]\n"
     ]
    }
   ],
   "source": [
    "SPLENDA()"
   ]
  },
  {
   "cell_type": "code",
   "execution_count": null,
   "metadata": {},
   "outputs": [],
   "source": []
  }
 ],
 "metadata": {
  "kernelspec": {
   "display_name": "Python 3",
   "language": "python",
   "name": "python3"
  },
  "language_info": {
   "codemirror_mode": {
    "name": "ipython",
    "version": 3
   },
   "file_extension": ".py",
   "mimetype": "text/x-python",
   "name": "python",
   "nbconvert_exporter": "python",
   "pygments_lexer": "ipython3",
   "version": "3.11.5"
  }
 },
 "nbformat": 4,
 "nbformat_minor": 2
}
